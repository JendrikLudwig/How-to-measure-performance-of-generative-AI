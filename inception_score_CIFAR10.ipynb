{
 "cells": [
  {
   "cell_type": "code",
   "execution_count": 1,
   "metadata": {},
   "outputs": [],
   "source": [
    "import tensorflow as tf\n",
    "from tensorflow.keras.applications.inception_v3 import InceptionV3, preprocess_input\n",
    "from tensorflow.keras.preprocessing import image\n",
    "import os\n",
    "import numpy as np\n",
    "from math import floor"
   ]
  },
  {
   "cell_type": "code",
   "execution_count": 2,
   "metadata": {},
   "outputs": [],
   "source": [
    "# Laden des vortrainierten Inception-v3-Modells\n",
    "model = InceptionV3(weights=\"imagenet\")"
   ]
  },
  {
   "cell_type": "code",
   "execution_count": 3,
   "metadata": {},
   "outputs": [],
   "source": [
    "def prepareImages(img_path):\n",
    "    \n",
    "    img = image.load_img(img_path, target_size=(299,299)) # Bild auf 299x299 skalieren\n",
    "    img_array = image.img_to_array(img) # Bild in ein numpy Array umwandeln\n",
    "    img_array = np.expand_dims(img_array, axis=0) # Bild Array auf [1, 299, 299, 3] erweitern\n",
    "    img_array = preprocess_input(img_array) # Bilddaten für das Model anpassen (automatisch)\n",
    "    \n",
    "    return img_array\n"
   ]
  },
  {
   "cell_type": "code",
   "execution_count": 4,
   "metadata": {},
   "outputs": [
    {
     "name": "stdout",
     "output_type": "stream",
     "text": [
      "\u001b[1m4/4\u001b[0m \u001b[32m━━━━━━━━━━━━━━━━━━━━\u001b[0m\u001b[37m\u001b[0m \u001b[1m6s\u001b[0m 1s/step  \n",
      "(100, 1000)\n"
     ]
    }
   ],
   "source": [
    "# assign directory\n",
    "directory = './samples/cifar10'\n",
    " \n",
    "# Array zum Speichern der Bilder erstellen\n",
    "data = np.ones((1,299,299,3))\n",
    "\n",
    "# Über die Datein im Ordner iterieren\n",
    "for filename in os.listdir(directory):\n",
    "    f = os.path.join(directory, filename)\n",
    "    \n",
    "    # Kontrolle ob der Pfad wirklich eine Datei ist\n",
    "    if os.path.isfile(f):\n",
    "        data = np.append(data, prepareImages(f), axis=0)\n",
    "\n",
    "# Das erste Element des Speicher Arrays löschen (Da nur mit Einsen gefüllt)\n",
    "data = np.delete(data, 0, 0)\n",
    "\n",
    "preds = model.predict(data)\n",
    "print(preds.shape)"
   ]
  },
  {
   "cell_type": "code",
   "execution_count": 21,
   "metadata": {},
   "outputs": [],
   "source": [
    "def calculate_inception_score(data, pred, n_split=10):\n",
    "    # Datenset in Gruppen unterteilen um stabilere Ergebnisse zu erhalten\n",
    "    scores = list()\n",
    "    n_part = floor(data.shape[0] / n_split)\n",
    "    for i in range(n_split):\n",
    "        \n",
    "        # Bedingte Klassenverteilung aus Prediction auslesen (Für den Abschnitt)\n",
    "        ix_start, ix_end = i * n_part, i * n_part + n_part\n",
    "        p_yx = pred[ix_start:ix_end]\n",
    "        \n",
    "        # Marginale Klassenverteilung berechnen\n",
    "        p_y = np.expand_dims(p_yx.mean(axis=0), 0)\n",
    "        \n",
    "        # Die KL Divergenz mit hilfe Logorithmischer Wahrscheinlichkeiten berechnen\n",
    "        kl_d = p_yx * (np.log(p_yx) - np.log(p_y))       \n",
    "\n",
    "        # KL Divergenz aufsummieren (pro Bild)\n",
    "        sum_kl_d = kl_d.sum(axis=1)\n",
    "\n",
    "        # Durchschnitt der KL Divergenzen Bilden (pro Gruppe)\n",
    "        avg_kl_d = np.mean(sum_kl_d)       \n",
    "\n",
    "        # Logorithmische Operation Rückgängig machen durch exponieren\n",
    "        is_score = np.exp(avg_kl_d)\n",
    "\n",
    "        # Inception Scores abspeichern\n",
    "        scores.append(is_score)\n",
    "    \n",
    "    # Den Durchschnitt sowie die Standardabweichung der IS Scores der Bilder bilden\n",
    "    is_avg, is_std = np.mean(scores), np.std(scores)\n",
    "    return is_avg, is_std"
   ]
  },
  {
   "cell_type": "code",
   "execution_count": 22,
   "metadata": {},
   "outputs": [
    {
     "name": "stdout",
     "output_type": "stream",
     "text": [
      "Inception Score (AVG): 1.5521443 | Inception Score (STD): 0.07612172\n"
     ]
    }
   ],
   "source": [
    "is_avg, is_std = calculate_inception_score(data, preds)\n",
    "print(\"Inception Score (AVG): \" + str(is_avg) +\" | Inception Score (STD): \"+ str(is_std))"
   ]
  }
 ],
 "metadata": {
  "kernelspec": {
   "display_name": "Python 3",
   "language": "python",
   "name": "python3"
  },
  "language_info": {
   "codemirror_mode": {
    "name": "ipython",
    "version": 3
   },
   "file_extension": ".py",
   "mimetype": "text/x-python",
   "name": "python",
   "nbconvert_exporter": "python",
   "pygments_lexer": "ipython3",
   "version": "3.11.9"
  }
 },
 "nbformat": 4,
 "nbformat_minor": 2
}
