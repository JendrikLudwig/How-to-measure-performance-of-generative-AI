{
 "cells": [
  {
   "cell_type": "code",
   "execution_count": 2,
   "metadata": {},
   "outputs": [],
   "source": [
    "import tensorflow as tf\n",
    "from tensorflow.keras.applications.inception_v3 import InceptionV3, preprocess_input\n",
    "import os\n",
    "import numpy as np\n",
    "from scipy.linalg import sqrtm\n",
    "from skimage.transform import resize\n",
    "from keras.datasets import mnist\n",
    "import matplotlib.pyplot as plt\n"
   ]
  },
  {
   "cell_type": "code",
   "execution_count": 3,
   "metadata": {},
   "outputs": [],
   "source": [
    "# Laden des vortrainierten Inception-v3-Modells\n",
    "model = InceptionV3(include_top=False, pooling='avg', input_shape=(299,299,3))"
   ]
  },
  {
   "cell_type": "code",
   "execution_count": 4,
   "metadata": {},
   "outputs": [],
   "source": [
    "# Berechnung der FID\n",
    "def calculate_fid(model, images1, images2):\n",
    "    # Aktivierungen berechnen\n",
    "    act1 = model.predict(images1)\n",
    "    act2 = model.predict(images2)\n",
    "\n",
    "    # Berechnug des Mittelwertes und der Kovarianz beider Verteilungen\n",
    "    mu1, sigma1 = act1.mean(axis=0), np.cov(act1, rowvar=False)\n",
    "    mu2, sigma2 = act2.mean(axis=0), np.cov(act2, rowvar=False)\n",
    "\n",
    "    # Berechnung der summe der quadrierten Differenzen zwischen den Mittelwerten / Euklidische Distanz (Skalaprodukt der Differenz)\n",
    "    sum_diff = np.sum((mu1 - mu2)**2.0)\n",
    "\n",
    "    # Berechnung der Wurzel des Punktproduktes zwischen beiden Kovarianzmatrizen\n",
    "    covmean = sqrtm(sigma1.dot(sigma2))\n",
    "\n",
    "    # Überprüfung sowie korrektur falls imaginäre Zahlen entstanden sind\n",
    "    if np.iscomplexobj(covmean):\n",
    "        covmean = covmean.real\n",
    "    \n",
    "    # Berechne den FID\n",
    "    fid = sum_diff + np.trace(sigma1 + sigma2 - 2.0 * covmean)\n",
    "    return fid"
   ]
  },
  {
   "cell_type": "code",
   "execution_count": 5,
   "metadata": {},
   "outputs": [],
   "source": [
    "# Bilder in einem Array auf die richtige Größe bringen\n",
    "def scale_images(images):\n",
    " images_hold = list()\n",
    " for image in images:\n",
    "    # Größe des Bildes ändern\n",
    "    new_image = resize(image, (299,299,3), 0)\n",
    "    # die neuen Bilder zwischenspeichern\n",
    "    images_hold.append(new_image)\n",
    " return np.asarray(images_hold)"
   ]
  },
  {
   "cell_type": "code",
   "execution_count": 6,
   "metadata": {},
   "outputs": [
    {
     "name": "stdout",
     "output_type": "stream",
     "text": [
      "\u001b[1m313/313\u001b[0m \u001b[32m━━━━━━━━━━━━━━━━━━━━\u001b[0m\u001b[37m\u001b[0m \u001b[1m375s\u001b[0m 1s/step\n",
      "\u001b[1m313/313\u001b[0m \u001b[32m━━━━━━━━━━━━━━━━━━━━\u001b[0m\u001b[37m\u001b[0m \u001b[1m357s\u001b[0m 1s/step\n",
      "FID: 1.767\n"
     ]
    }
   ],
   "source": [
    "# CIFAR10 Trainings- & Testbilder\n",
    "\n",
    "# Zum testen des FIDs laden wir CIFAR10 Bilder. images1: 50 000 Trainingsbilder, images2 = 10 000 Testbilder \n",
    "(r_images1,_), (r_images2,_) = mnist.load_data()\n",
    "\n",
    "\n",
    "# Die Trainingsbilder durchmischen und 10 000 auswählen.\n",
    "np.random.shuffle(r_images1)\n",
    "images1 = r_images1[:10000]\n",
    "\n",
    "# Integer Werte in Float Werte umwandeln.\n",
    "images1 = images1.astype('float32')\n",
    "images2 = r_images2.astype('float32')\n",
    "\n",
    "# Bildgrößen anpassen\n",
    "images1 = scale_images(images1)\n",
    "images2 = scale_images(images2)\n",
    "\n",
    "# Bilder normalisieren\n",
    "images1 = preprocess_input(images1)\n",
    "images2 = preprocess_input(images2)\n",
    "\n",
    "#FID berechnen\n",
    "fid = calculate_fid(model, images1, images2)\n",
    "print('FID: %.3f' % fid)"
   ]
  },
  {
   "cell_type": "code",
   "execution_count": 7,
   "metadata": {},
   "outputs": [
    {
     "name": "stderr",
     "output_type": "stream",
     "text": [
      "Clipping input data to the valid range for imshow with RGB data ([0..1] for floats or [0..255] for integers).\n",
      "Clipping input data to the valid range for imshow with RGB data ([0..1] for floats or [0..255] for integers).\n"
     ]
    },
    {
     "data": {
      "text/plain": [
       "<matplotlib.image.AxesImage at 0x21dbd4f8b50>"
      ]
     },
     "execution_count": 7,
     "metadata": {},
     "output_type": "execute_result"
    },
    {
     "data": {
      "image/png": "[encoded data removed]",
      "text/plain": [
       "<Figure size 1000x500 with 2 Axes>"
      ]
     },
     "metadata": {},
     "output_type": "display_data"
    }
   ],
   "source": [
    "fig, (ax1, ax2) = plt.subplots(figsize=(10,5), nrows=1, ncols=2, sharey=True, sharex=True)\n",
    "\n",
    "img1 = images1[0] \n",
    "img2 = images2[0] \n",
    "\n",
    "ax1.xaxis.set_visible(False)\n",
    "ax2.xaxis.set_visible(False)\n",
    "ax1.yaxis.set_visible(False)\n",
    "\n",
    "ax1.imshow(img1)\n",
    "ax2.imshow(img2)\n"
   ]
  }
 ],
 "metadata": {
  "kernelspec": {
   "display_name": "Python 3",
   "language": "python",
   "name": "python3"
  },
  "language_info": {
   "codemirror_mode": {
    "name": "ipython",
    "version": 3
   },
   "file_extension": ".py",
   "mimetype": "text/x-python",
   "name": "python",
   "nbconvert_exporter": "python",
   "pygments_lexer": "ipython3",
   "version": "3.11.9"
  }
 },
 "nbformat": 4,
 "nbformat_minor": 2
}
